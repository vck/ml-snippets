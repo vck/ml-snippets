{
 "cells": [
  {
   "cell_type": "code",
   "execution_count": 10,
   "metadata": {},
   "outputs": [],
   "source": [
    "# implementasi mknn pada python\n",
    "\n",
    "import random\n",
    "import csv\n",
    "from math import sqrt\n",
    "\n",
    "data_raw = open(\"target.csv\")\n",
    "\n",
    "reader = csv.reader(data_raw)\n",
    "datasets = [row for row in reader]\n",
    "\n",
    "cleaned_data = []\n",
    "\n",
    "for row in datasets:\n",
    "    cleaned_data.append([feature for feature in map(float, row)])\n",
    "\n",
    "random.shuffle(cleaned_data)\n",
    "\n",
    "n_data = len(cleaned_data)\n",
    "\n",
    "train_data = cleaned_data[100:]\n",
    "test_data = cleaned_data[:100]\n",
    "\n",
    "x_train = [[row[0], row[1], row[2], row[3]] for row in train_data]\n",
    "y_train = [[row[4] for row in train_data]]\n",
    "x_test =  [[row[0], row[1], row[2], row[3]] for row in test_data]\n",
    "y_test =  [[row[4] for row in test_data]]\n",
    "\n",
    "\n",
    "def distance(x, y):\n",
    "    assert len(x) == len(y)\n",
    "    return sqrt(sum([(x[i] - y[i])**2] for i in range(len(x))))\n",
    "\n",
    "def validity(x, y, k):\n",
    "    assert len(x) == len(y)\n",
    "    S = lambda x, y: 1 if x == y else 0\n",
    "    return 1/k * sum([S(x[i], y[i]) for i in range(len(x))])\n",
    "\n",
    "def weight_voting(validity, d):\n",
    "    return validity * (1/(d+0.5))\n",
    "\n",
    "def train(train_data, test_data):\n",
    "    validity = []\n",
    "    for i in range(len(train_data)):\n",
    "        \n",
    "    \n",
    "    \n",
    "def test(test_data):\n",
    "    pass\n",
    "\n",
    "def confusion_matrix():\n",
    "    pass\n",
    "\n",
    "def accuracy():\n",
    "    pass\n",
    "\n"
   ]
  },
  {
   "cell_type": "code",
   "execution_count": 2,
   "metadata": {},
   "outputs": [
    {
     "data": {
      "text/plain": [
       "0"
      ]
     },
     "execution_count": 2,
     "metadata": {},
     "output_type": "execute_result"
    }
   ],
   "source": [
    "x = lambda i, j: 0 if i == j else 0\n",
    "S(1, 2)"
   ]
  },
  {
   "cell_type": "code",
   "execution_count": 7,
   "metadata": {},
   "outputs": [
    {
     "data": {
      "text/plain": [
       "1100"
      ]
     },
     "execution_count": 7,
     "metadata": {},
     "output_type": "execute_result"
    }
   ],
   "source": []
  },
  {
   "cell_type": "code",
   "execution_count": null,
   "metadata": {},
   "outputs": [],
   "source": []
  }
 ],
 "metadata": {
  "kernelspec": {
   "display_name": "Python 3",
   "language": "python",
   "name": "python3"
  },
  "language_info": {
   "codemirror_mode": {
    "name": "ipython",
    "version": 3
   },
   "file_extension": ".py",
   "mimetype": "text/x-python",
   "name": "python",
   "nbconvert_exporter": "python",
   "pygments_lexer": "ipython3",
   "version": "3.7.0"
  }
 },
 "nbformat": 4,
 "nbformat_minor": 2
}
